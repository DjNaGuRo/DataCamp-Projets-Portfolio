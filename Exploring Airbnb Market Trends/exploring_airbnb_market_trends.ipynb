{
 "cells": [
  {
   "cell_type": "markdown",
   "id": "c747d469-ee97-4b95-880f-feefd5456042",
   "metadata": {
    "id": "bA5ajAmk7XH6"
   },
   "source": [
    "![NYC Skyline](nyc.jpg)\n",
    "\n",
    "Welcome to New York City, one of the most-visited cities in the world. There are many Airbnb listings in New York City to meet the high demand for temporary lodging for travelers, which can be anywhere between a few nights to many months. In this project, we will take a closer look at the New York Airbnb market by combining data from multiple file types like `.csv`, `.tsv`, and `.xlsx`.\n",
    "\n",
    "Recall that **CSV**, **TSV**, and **Excel** files are three common formats for storing data. \n",
    "Three files containing data on 2019 Airbnb listings are available to you:\n",
    "\n",
    "**data/airbnb_price.csv**\n",
    "This is a CSV file containing data on Airbnb listing prices and locations.\n",
    "- **`listing_id`**: unique identifier of listing\n",
    "- **`price`**: nightly listing price in USD\n",
    "- **`nbhood_full`**: name of borough and neighborhood where listing is located\n",
    "\n",
    "**data/airbnb_room_type.xlsx**\n",
    "This is an Excel file containing data on Airbnb listing descriptions and room types.\n",
    "- **`listing_id`**: unique identifier of listing\n",
    "- **`description`**: listing description\n",
    "- **`room_type`**: Airbnb has three types of rooms: shared rooms, private rooms, and entire homes/apartments\n",
    "\n",
    "**data/airbnb_last_review.tsv**\n",
    "This is a TSV file containing data on Airbnb host names and review dates.\n",
    "- **`listing_id`**: unique identifier of listing\n",
    "- **`host_name`**: name of listing host\n",
    "- **`last_review`**: date when the listing was last reviewed"
   ]
  },
  {
   "cell_type": "code",
   "execution_count": 1,
   "id": "1fdc5784-479e-46cb-b05b-68439dcc94a7",
   "metadata": {
    "executionCancelledAt": null,
    "executionTime": 49,
    "lastExecutedAt": 1717804960598,
    "lastExecutedByKernel": "a6933665-fbd4-4b0b-8f50-281805c5b6f5",
    "lastScheduledRunId": null,
    "lastSuccessfullyExecutedCode": "# Import necessary packages\nimport pandas as pd\nimport numpy as np\n\n# Begin coding here ...\n# Use as many cells as you like"
   },
   "outputs": [],
   "source": [
    "# Import necessary packages\n",
    "import pandas as pd\n",
    "import numpy as np\n",
    "\n",
    "# Begin coding here ...\n",
    "# Use as many cells as you like"
   ]
  },
  {
   "cell_type": "code",
   "execution_count": 2,
   "id": "206e105c-bd0e-4d3c-82a7-c297d18685d4",
   "metadata": {
    "executionCancelledAt": null,
    "executionTime": 49,
    "lastExecutedAt": 1717804960647,
    "lastExecutedByKernel": "a6933665-fbd4-4b0b-8f50-281805c5b6f5",
    "lastScheduledRunId": null,
    "lastSuccessfullyExecutedCode": "# Loading Airbnb price data\nairbnb_price_df = pd.read_csv(\"data/airbnb_price.csv\")\nprint(airbnb_price_df.head())",
    "outputsMetadata": {
     "0": {
      "height": 143,
      "type": "stream"
     }
    }
   },
   "outputs": [
    {
     "name": "stdout",
     "output_type": "stream",
     "text": [
      "   listing_id        price                nbhood_full\n",
      "0        2595  225 dollars         Manhattan, Midtown\n",
      "1        3831   89 dollars     Brooklyn, Clinton Hill\n",
      "2        5099  200 dollars     Manhattan, Murray Hill\n",
      "3        5178   79 dollars  Manhattan, Hell's Kitchen\n",
      "4        5238  150 dollars       Manhattan, Chinatown\n"
     ]
    }
   ],
   "source": [
    "# Loading Airbnb price data\n",
    "airbnb_price_df = pd.read_csv(\"./data/airbnb_price.csv\")\n",
    "print(airbnb_price_df.head())"
   ]
  },
  {
   "cell_type": "code",
   "execution_count": 3,
   "id": "f787dedb-da73-4151-a019-a04b3aebe7f9",
   "metadata": {
    "executionCancelledAt": null,
    "executionTime": 56,
    "lastExecutedAt": 1717804960703,
    "lastExecutedByKernel": "a6933665-fbd4-4b0b-8f50-281805c5b6f5",
    "lastScheduledRunId": null,
    "lastSuccessfullyExecutedCode": "# EDA of Airbnb price data\nairbnb_price_df.info() #-> shows any NA value and that we should retype price column to float\n# Retyping price column to float type\nairbnb_price_df['price'] = airbnb_price_df['price'].str.replace(\"dollars\", \"\")\nairbnb_price_df['price'] = airbnb_price_df['price'].str.strip()\nairbnb_price_df['price'] = airbnb_price_df['price'].astype(\"float\")\nprint(airbnb_price_df.head())\nairbnb_price_df.info()",
    "outputsMetadata": {
     "0": {
      "height": 563,
      "type": "stream"
     }
    }
   },
   "outputs": [
    {
     "name": "stdout",
     "output_type": "stream",
     "text": [
      "<class 'pandas.core.frame.DataFrame'>\n",
      "RangeIndex: 25209 entries, 0 to 25208\n",
      "Data columns (total 3 columns):\n",
      " #   Column       Non-Null Count  Dtype \n",
      "---  ------       --------------  ----- \n",
      " 0   listing_id   25209 non-null  int64 \n",
      " 1   price        25209 non-null  object\n",
      " 2   nbhood_full  25209 non-null  object\n",
      "dtypes: int64(1), object(2)\n",
      "memory usage: 591.0+ KB\n",
      "   listing_id  price                nbhood_full\n",
      "0        2595  225.0         Manhattan, Midtown\n",
      "1        3831   89.0     Brooklyn, Clinton Hill\n",
      "2        5099  200.0     Manhattan, Murray Hill\n",
      "3        5178   79.0  Manhattan, Hell's Kitchen\n",
      "4        5238  150.0       Manhattan, Chinatown\n",
      "<class 'pandas.core.frame.DataFrame'>\n",
      "RangeIndex: 25209 entries, 0 to 25208\n",
      "Data columns (total 3 columns):\n",
      " #   Column       Non-Null Count  Dtype  \n",
      "---  ------       --------------  -----  \n",
      " 0   listing_id   25209 non-null  int64  \n",
      " 1   price        25209 non-null  float64\n",
      " 2   nbhood_full  25209 non-null  object \n",
      "dtypes: float64(1), int64(1), object(1)\n",
      "memory usage: 591.0+ KB\n"
     ]
    }
   ],
   "source": [
    "# EDA of Airbnb price data\n",
    "airbnb_price_df.info() #-> shows any NA value and that we should retype price column to float\n",
    "# Retyping price column to float type\n",
    "airbnb_price_df['price'] = airbnb_price_df['price'].str.replace(\"dollars\", \"\")\n",
    "airbnb_price_df['price'] = airbnb_price_df['price'].str.strip()\n",
    "airbnb_price_df['price'] = airbnb_price_df['price'].astype(\"float\")\n",
    "print(airbnb_price_df.head())\n",
    "airbnb_price_df.info()"
   ]
  },
  {
   "cell_type": "code",
   "execution_count": 4,
   "id": "3291a862-2b9f-46d7-95ed-146c69053a1d",
   "metadata": {
    "chartConfig": {
     "bar": {
      "hasRoundedCorners": true,
      "stacked": false
     },
     "type": "bar",
     "version": "v1",
     "x": {
      "field": "index",
      "type": "string"
     },
     "y": {
      "field": "price",
      "type": "number"
     }
    },
    "executionCancelledAt": null,
    "executionTime": 47,
    "lastExecutedAt": 1717804960750,
    "lastExecutedByKernel": "a6933665-fbd4-4b0b-8f50-281805c5b6f5",
    "lastScheduledRunId": null,
    "lastSuccessfullyExecutedCode": "airbnb_price_df['price'].describe()\ncheapest_airbnb = airbnb_price_df.loc[airbnb_price_df['price'] == 0]",
    "outputsMetadata": {
     "0": {
      "height": 271,
      "type": "dataFrame"
     }
    },
    "visualizeDataframe": false
   },
   "outputs": [],
   "source": [
    "airbnb_price_df['price'].describe()\n",
    "cheapest_airbnb = airbnb_price_df.loc[airbnb_price_df['price'] == 0]"
   ]
  },
  {
   "cell_type": "code",
   "execution_count": 5,
   "id": "190d0ea2-9082-4685-9c1a-bd88f046f11b",
   "metadata": {
    "executionCancelledAt": null,
    "executionTime": 56,
    "lastExecutedAt": 1717804960807,
    "lastExecutedByKernel": "a6933665-fbd4-4b0b-8f50-281805c5b6f5",
    "lastScheduledRunId": null,
    "lastSuccessfullyExecutedCode": "print(cheapest_airbnb)",
    "outputsMetadata": {
     "0": {
      "height": 185,
      "type": "stream"
     }
    }
   },
   "outputs": [
    {
     "name": "stdout",
     "output_type": "stream",
     "text": [
      "       listing_id  price                   nbhood_full\n",
      "10861    20333471    0.0        Bronx, East Morrisania\n",
      "10958    20523843    0.0            Brooklyn, Bushwick\n",
      "11023    20639628    0.0  Brooklyn, Bedford-Stuyvesant\n",
      "11024    20639792    0.0  Brooklyn, Bedford-Stuyvesant\n",
      "11025    20639914    0.0  Brooklyn, Bedford-Stuyvesant\n",
      "11577    21291569    0.0            Brooklyn, Bushwick\n",
      "11589    21304320    0.0            Brooklyn, Bushwick\n"
     ]
    }
   ],
   "source": [
    "print(cheapest_airbnb)"
   ]
  },
  {
   "cell_type": "code",
   "execution_count": 6,
   "id": "a74cebd9-062b-41ba-a89a-d80a060701a6",
   "metadata": {
    "executionCancelledAt": null,
    "executionTime": 47,
    "lastExecutedAt": 1717804960854,
    "lastExecutedByKernel": "a6933665-fbd4-4b0b-8f50-281805c5b6f5",
    "lastScheduledRunId": null,
    "lastSuccessfullyExecutedCode": "# Compute the average of airbnb listings prices in avg_price\navg_price = airbnb_price_df['price'].mean().round(2)\nprint(\"Average listing price: \", avg_price)",
    "outputsMetadata": {
     "0": {
      "height": 38,
      "type": "stream"
     }
    }
   },
   "outputs": [
    {
     "name": "stdout",
     "output_type": "stream",
     "text": [
      "Average listing price:  141.78\n"
     ]
    }
   ],
   "source": [
    "# Compute the average of airbnb listings prices in avg_price\n",
    "avg_price = airbnb_price_df['price'].mean().round(2)\n",
    "print(\"Average listing price: \", avg_price)"
   ]
  },
  {
   "cell_type": "code",
   "execution_count": 7,
   "id": "afd474f2-dc32-4730-b0e4-a9024ba44656",
   "metadata": {
    "executionCancelledAt": null,
    "executionTime": 49,
    "lastExecutedAt": 1717804960903,
    "lastExecutedByKernel": "a6933665-fbd4-4b0b-8f50-281805c5b6f5",
    "lastScheduledRunId": null,
    "lastSuccessfullyExecutedCode": "# Loading Airbnb reviews data\nairbnb_reviews_df = pd.read_csv(\"data/airbnb_last_review.tsv\", delimiter=\"\\t\")\nprint(airbnb_reviews_df.head(2))",
    "outputsMetadata": {
     "0": {
      "height": 80,
      "type": "stream"
     }
    }
   },
   "outputs": [
    {
     "name": "stdout",
     "output_type": "stream",
     "text": [
      "   listing_id    host_name   last_review\n",
      "0        2595     Jennifer   May 21 2019\n",
      "1        3831  LisaRoxanne  July 05 2019\n"
     ]
    }
   ],
   "source": [
    "# Loading Airbnb reviews data\n",
    "airbnb_reviews_df = pd.read_csv(\"data/airbnb_last_review.tsv\", delimiter=\"\\t\")\n",
    "print(airbnb_reviews_df.head(2))"
   ]
  },
  {
   "cell_type": "code",
   "execution_count": 8,
   "id": "7f4a7a91-eae9-484a-8df1-43216272af62",
   "metadata": {
    "collapsed": false,
    "executionCancelledAt": null,
    "executionTime": 55,
    "jupyter": {
     "outputs_hidden": false,
     "source_hidden": false
    },
    "lastExecutedAt": 1717804960958,
    "lastExecutedByKernel": "a6933665-fbd4-4b0b-8f50-281805c5b6f5",
    "lastScheduledRunId": null,
    "lastSuccessfullyExecutedCode": "# EDA of Airbnb reviews data\nairbnb_reviews_df.info()\nairbnb_reviews_df['last_review'] = pd.to_datetime(airbnb_reviews_df['last_review'], infer_datetime_format=True)\n#airbnb_reviews_df['last_review'] = airbnb_reviews_df['last_review'].dt.strftime(\"%Y%m%d\")\nairbnb_reviews_df.dtypes",
    "outputsMetadata": {
     "0": {
      "height": 227,
      "type": "stream"
     }
    }
   },
   "outputs": [
    {
     "name": "stdout",
     "output_type": "stream",
     "text": [
      "<class 'pandas.core.frame.DataFrame'>\n",
      "RangeIndex: 25209 entries, 0 to 25208\n",
      "Data columns (total 3 columns):\n",
      " #   Column       Non-Null Count  Dtype \n",
      "---  ------       --------------  ----- \n",
      " 0   listing_id   25209 non-null  int64 \n",
      " 1   host_name    25201 non-null  object\n",
      " 2   last_review  25209 non-null  object\n",
      "dtypes: int64(1), object(2)\n",
      "memory usage: 591.0+ KB\n"
     ]
    },
    {
     "name": "stderr",
     "output_type": "stream",
     "text": [
      "/tmp/ipykernel_143710/278281237.py:3: UserWarning: The argument 'infer_datetime_format' is deprecated and will be removed in a future version. A strict version of it is now the default, see https://pandas.pydata.org/pdeps/0004-consistent-to-datetime-parsing.html. You can safely remove this argument.\n",
      "  airbnb_reviews_df['last_review'] = pd.to_datetime(airbnb_reviews_df['last_review'], infer_datetime_format=True)\n"
     ]
    },
    {
     "data": {
      "text/plain": [
       "listing_id              int64\n",
       "host_name              object\n",
       "last_review    datetime64[ns]\n",
       "dtype: object"
      ]
     },
     "execution_count": 8,
     "metadata": {},
     "output_type": "execute_result"
    }
   ],
   "source": [
    "# EDA of Airbnb reviews data\n",
    "airbnb_reviews_df.info()\n",
    "airbnb_reviews_df['last_review'] = pd.to_datetime(airbnb_reviews_df['last_review'], infer_datetime_format=True)\n",
    "#airbnb_reviews_df['last_review'] = airbnb_reviews_df['last_review'].dt.strftime(\"%Y%m%d\")\n",
    "airbnb_reviews_df.dtypes"
   ]
  },
  {
   "cell_type": "code",
   "execution_count": 9,
   "id": "fb026605-6a39-41e6-aae4-9cef8e1f4c23",
   "metadata": {
    "executionCancelledAt": null,
    "executionTime": null,
    "lastExecutedAt": null,
    "lastExecutedByKernel": null,
    "lastScheduledRunId": null,
    "lastSuccessfullyExecutedCode": null,
    "outputsMetadata": {
     "0": {
      "height": 248,
      "type": "stream"
     }
    }
   },
   "outputs": [
    {
     "name": "stdout",
     "output_type": "stream",
     "text": [
      "       listing_id host_name last_review\n",
      "263        100184       NaN  2019-07-08\n",
      "3040      4183989       NaN  2019-05-23\n",
      "4039      6292866       NaN  2019-06-19\n",
      "4269      6786181       NaN  2019-06-19\n",
      "6338     12113879       NaN  2019-07-02\n",
      "8060     15648096       NaN  2019-07-07\n",
      "12128    21867710       NaN  2019-01-01\n",
      "12164    21901156       NaN  2019-01-01\n",
      "Unique Airbnb listings:  25209\n",
      "Remaining number of rows:  25201\n"
     ]
    }
   ],
   "source": [
    "missing_values = airbnb_reviews_df[airbnb_reviews_df['host_name'].isna()]\n",
    "print(missing_values)\n",
    "# Checking if duplicated listings after founding missing values in host name column\n",
    "print(\"Unique Airbnb listings: \", airbnb_reviews_df['listing_id'].nunique())\n",
    "# Deleting rows with those missing values\n",
    "airbnb_reviews_df.dropna(subset=['host_name'], inplace=True)\n",
    "print(\"Remaining number of rows: \", airbnb_reviews_df.shape[0])"
   ]
  },
  {
   "cell_type": "code",
   "execution_count": 10,
   "id": "404ea51a-16ec-4bf4-8567-af02d1255abb",
   "metadata": {
    "executionCancelledAt": null,
    "executionTime": 49,
    "lastExecutedAt": 1717804961059,
    "lastExecutedByKernel": "a6933665-fbd4-4b0b-8f50-281805c5b6f5",
    "lastScheduledRunId": null,
    "lastSuccessfullyExecutedCode": "# Gathering earliest and most recent reviews in first_reviewed and last_reviewed variables respectively\nfirst_reviewed = airbnb_reviews_df['last_review'].min()\nlast_reviewed = airbnb_reviews_df['last_review'].max()\nprint(f\"Earliest reviewed listing date: {first_reviewed}.\\nMost recent reviewed date: {last_reviewed}\")",
    "outputsMetadata": {
     "0": {
      "height": 59,
      "type": "stream"
     }
    }
   },
   "outputs": [
    {
     "name": "stdout",
     "output_type": "stream",
     "text": [
      "Earliest reviewed listing date: 2019-01-01 00:00:00.\n",
      "Most recent reviewed date: 2019-07-09 00:00:00\n"
     ]
    }
   ],
   "source": [
    "# Gathering earliest and most recent reviews in first_reviewed and last_reviewed variables respectively\n",
    "first_reviewed = airbnb_reviews_df['last_review'].min()\n",
    "last_reviewed = airbnb_reviews_df['last_review'].max()\n",
    "print(f\"Earliest reviewed listing date: {first_reviewed}.\\nMost recent reviewed date: {last_reviewed}\")"
   ]
  },
  {
   "cell_type": "code",
   "execution_count": 11,
   "id": "c8b6aad1-302d-4fcd-93a4-8eee91a85329",
   "metadata": {
    "executionCancelledAt": null,
    "executionTime": 1350,
    "lastExecutedAt": 1717804962409,
    "lastExecutedByKernel": "a6933665-fbd4-4b0b-8f50-281805c5b6f5",
    "lastScheduledRunId": null,
    "lastSuccessfullyExecutedCode": "# Loading Airbnb rooms data file\nairbnb_rooms_df = pd.read_excel(\"data/airbnb_room_type.xlsx\")\nprint(airbnb_rooms_df.head(2))",
    "outputsMetadata": {
     "0": {
      "height": 80,
      "type": "stream"
     }
    }
   },
   "outputs": [
    {
     "name": "stdout",
     "output_type": "stream",
     "text": [
      "   listing_id                      description        room_type\n",
      "0        2595            Skylit Midtown Castle  Entire home/apt\n",
      "1        3831  Cozy Entire Floor of Brownstone  Entire home/apt\n"
     ]
    }
   ],
   "source": [
    "# Loading Airbnb rooms data file\n",
    "airbnb_rooms_df = pd.read_excel(\"data/airbnb_room_type.xlsx\")\n",
    "print(airbnb_rooms_df.head(2))"
   ]
  },
  {
   "cell_type": "code",
   "execution_count": 12,
   "id": "4755b73c-0535-485a-80b9-4bead1c2a46e",
   "metadata": {
    "executionCancelledAt": null,
    "executionTime": 62,
    "lastExecutedAt": 1717804962471,
    "lastExecutedByKernel": "a6933665-fbd4-4b0b-8f50-281805c5b6f5",
    "lastScheduledRunId": null,
    "lastSuccessfullyExecutedCode": "# EDA of Airbnb rooms data\nprint(\"Dtypes: \", airbnb_rooms_df.dtypes)\nprint(\"Room types breakdown:\\n\", airbnb_rooms_df['room_type'].value_counts())\nairbnb_rooms_df.info()",
    "outputsMetadata": {
     "0": {
      "height": 542,
      "type": "stream"
     }
    }
   },
   "outputs": [
    {
     "name": "stdout",
     "output_type": "stream",
     "text": [
      "Dtypes:  listing_id      int64\n",
      "description    object\n",
      "room_type      object\n",
      "dtype: object\n",
      "Room types breakdown:\n",
      " room_type\n",
      "Entire home/apt    8458\n",
      "Private room       7241\n",
      "entire home/apt    2665\n",
      "private room       2248\n",
      "ENTIRE HOME/APT    2143\n",
      "PRIVATE ROOM       1867\n",
      "Shared room         380\n",
      "shared room         110\n",
      "SHARED ROOM          97\n",
      "Name: count, dtype: int64\n",
      "<class 'pandas.core.frame.DataFrame'>\n",
      "RangeIndex: 25209 entries, 0 to 25208\n",
      "Data columns (total 3 columns):\n",
      " #   Column       Non-Null Count  Dtype \n",
      "---  ------       --------------  ----- \n",
      " 0   listing_id   25209 non-null  int64 \n",
      " 1   description  25199 non-null  object\n",
      " 2   room_type    25209 non-null  object\n",
      "dtypes: int64(1), object(2)\n",
      "memory usage: 591.0+ KB\n"
     ]
    }
   ],
   "source": [
    "# EDA of Airbnb rooms data\n",
    "print(\"Dtypes: \", airbnb_rooms_df.dtypes)\n",
    "print(\"Room types breakdown:\\n\", airbnb_rooms_df['room_type'].value_counts())\n",
    "airbnb_rooms_df.info()"
   ]
  },
  {
   "cell_type": "code",
   "execution_count": 13,
   "id": "88edbab2-13c2-4ed4-be3a-1a43129917b8",
   "metadata": {
    "executionCancelledAt": null,
    "executionTime": 51,
    "lastExecutedAt": 1717804962522,
    "lastExecutedByKernel": "a6933665-fbd4-4b0b-8f50-281805c5b6f5",
    "lastScheduledRunId": null,
    "lastSuccessfullyExecutedCode": "airbnb_rooms_df['room_type'] = airbnb_rooms_df['room_type'].str.lower()\nairbnb_rooms_df['room_type'] = airbnb_rooms_df['room_type'].str.strip()\n",
    "outputsMetadata": {
     "0": {
      "height": 146,
      "type": "dataFrame"
     }
    }
   },
   "outputs": [],
   "source": [
    "airbnb_rooms_df['room_type'] = airbnb_rooms_df['room_type'].str.lower()\n",
    "airbnb_rooms_df['room_type'] = airbnb_rooms_df['room_type'].str.strip()\n"
   ]
  },
  {
   "cell_type": "code",
   "execution_count": 14,
   "id": "3f90c1ec-022a-4c32-b450-6dbb2939e6c4",
   "metadata": {
    "executionCancelledAt": null,
    "executionTime": 53,
    "lastExecutedAt": 1717804962575,
    "lastExecutedByKernel": "a6933665-fbd4-4b0b-8f50-281805c5b6f5",
    "lastScheduledRunId": null,
    "lastSuccessfullyExecutedCode": "# Getting the number of private rooms\nbreakdown_types = airbnb_rooms_df['room_type'].value_counts()\nnb_private_rooms = breakdown_types['private room']\n#nb_private_rooms = airbnb_rooms_df[airbnb_rooms_df['room_type'] == 'private room'].shape[0]\nprint(\"Nb of private rooms: \", nb_private_rooms)",
    "outputsMetadata": {
     "0": {
      "height": 38,
      "type": "stream"
     }
    }
   },
   "outputs": [
    {
     "name": "stdout",
     "output_type": "stream",
     "text": [
      "Nb of private rooms:  11356\n"
     ]
    }
   ],
   "source": [
    "# Getting the number of private rooms\n",
    "breakdown_types = airbnb_rooms_df['room_type'].value_counts()\n",
    "nb_private_rooms = breakdown_types['private room']\n",
    "#nb_private_rooms = airbnb_rooms_df[airbnb_rooms_df['room_type'] == 'private room'].shape[0]\n",
    "print(\"Nb of private rooms: \", nb_private_rooms)"
   ]
  },
  {
   "cell_type": "code",
   "execution_count": 15,
   "id": "99090a04-e248-4a0f-b949-f6c3ad8b334e",
   "metadata": {
    "executionCancelledAt": null,
    "executionTime": 60,
    "lastExecutedAt": 1717804962635,
    "lastExecutedByKernel": "a6933665-fbd4-4b0b-8f50-281805c5b6f5",
    "lastScheduledRunId": null,
    "lastSuccessfullyExecutedCode": "# Final result\nreview_dates = pd.DataFrame({\"first_reviewed\": first_reviewed, \"last_reviewed\": last_reviewed,\n                            \"nb_private_rooms\": nb_private_rooms, \"avg_price\": avg_price}, index=[0])\nprint(review_dates)",
    "outputsMetadata": {
     "0": {
      "height": 59,
      "type": "stream"
     }
    }
   },
   "outputs": [
    {
     "name": "stdout",
     "output_type": "stream",
     "text": [
      "  first_reviewed last_reviewed  nb_private_rooms  avg_price\n",
      "0     2019-01-01    2019-07-09             11356     141.78\n"
     ]
    }
   ],
   "source": [
    "# Final result\n",
    "review_dates = pd.DataFrame({\"first_reviewed\": first_reviewed, \"last_reviewed\": last_reviewed,\n",
    "                            \"nb_private_rooms\": nb_private_rooms, \"avg_price\": avg_price}, index=[0])\n",
    "print(review_dates)"
   ]
  }
 ],
 "metadata": {
  "colab": {
   "name": "Welcome to DataCamp Workspaces.ipynb",
   "provenance": []
  },
  "editor": "DataLab",
  "kernelspec": {
   "display_name": "Python 3 (ipykernel)",
   "language": "python",
   "name": "python3"
  },
  "language_info": {
   "codemirror_mode": {
    "name": "ipython",
    "version": 3
   },
   "file_extension": ".py",
   "mimetype": "text/x-python",
   "name": "python",
   "nbconvert_exporter": "python",
   "pygments_lexer": "ipython3",
   "version": "3.12.7"
  }
 },
 "nbformat": 4,
 "nbformat_minor": 5
}
