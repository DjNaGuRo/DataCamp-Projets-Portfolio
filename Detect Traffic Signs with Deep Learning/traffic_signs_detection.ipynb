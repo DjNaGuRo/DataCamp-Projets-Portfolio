{
 "cells": [
  {
   "cell_type": "markdown",
   "id": "9bef1e92-37c0-4f79-a27a-74f017644cdf",
   "metadata": {},
   "source": [
    "![Traffic lights over urban intersection.](traffic.jpg)"
   ]
  },
  {
   "cell_type": "markdown",
   "id": "1c2bc1d6-3780-4d6f-8016-c90898817887",
   "metadata": {},
   "source": [
    "**Challenges in Traffic Sign Management**\n",
    "\n",
    "Traffic signs convey vital information to drivers. However, their effectiveness can be hindered by various factors, such as their visibility under different lighting conditions or the presence of obstructions.\n",
    "\n",
    "\n",
    "**Training Traffic Sign Detection Models**\n",
    "\n",
    "To address these challenges and enhance stop sign and traffic light detection capabilities, advanced technologies such as deep learning and computer vision have gained significant attention. In this project, you'll train an object detection model on 6 images of stop signs and 6 images of traffic lights, taken from various angles and lighting conditions. This training teaches the model to classify and locate these signs in images, improving its robustness and reliability for real-world applications."
   ]
  },
  {
   "cell_type": "code",
   "execution_count": 3,
   "id": "2f26fc58-2bcd-45a6-841f-cbcdd391e2f2",
   "metadata": {
    "executionCancelledAt": null,
    "executionTime": 101,
    "lastExecutedAt": 1723720832165,
    "lastExecutedByKernel": "68f324ca-e9a6-45d8-87fa-254418ef1456",
    "lastScheduledRunId": null,
    "lastSuccessfullyExecutedCode": "# Import required libraries\nimport numpy as np\nimport matplotlib.pyplot as plt\nfrom tensorflow import keras\n\n# Load preprocessed images and the corresponding labels\nimage, labels = np.load('batch.npy',allow_pickle=True).tolist()\n\n# hyperparameters\ninput_size = image.shape[1] # dimension of input image\nnum_classes = labels['classifier_head'].shape[1] # number of classes\nDROPOUT_FACTOR = 0.2 # dropout probability\n\n# visualize one example preprocessed image\nplt.imshow(image[2])\nplt.axis(\"off\")",
    "outputsMetadata": {
     "0": {
      "height": 616,
      "type": "stream"
     },
     "1": {
      "height": 185,
      "type": "stream"
     }
    }
   },
   "outputs": [
    {
     "name": "stderr",
     "output_type": "stream",
     "text": [
      "Clipping input data to the valid range for imshow with RGB data ([0..1] for floats or [0..255] for integers). Got range [-123.68..151.061].\n"
     ]
    },
    {
     "data": {
      "text/plain": [
       "(-0.5, 223.5, 223.5, -0.5)"
      ]
     },
     "execution_count": 3,
     "metadata": {},
     "output_type": "execute_result"
    },
    {
     "data": {
      "image/png": "[encoded data removed]",
      "text/plain": [
       "<Figure size 640x480 with 1 Axes>"
      ]
     },
     "metadata": {},
     "output_type": "display_data"
    }
   ],
   "source": [
    "# Import required libraries\n",
    "import numpy as np\n",
    "import matplotlib.pyplot as plt\n",
    "from tensorflow import keras\n",
    "import warnings\n",
    "warnings.filterwarnings(\"ignore\")\n",
    "\n",
    "# Load preprocessed images and the corresponding labels\n",
    "image, labels = np.load('batch.npy',allow_pickle=True).tolist()\n",
    "\n",
    "# hyperparameters\n",
    "input_size = image.shape[1] # dimension of input image\n",
    "num_classes = labels['classifier_head'].shape[1] # number of classes\n",
    "DROPOUT_FACTOR = 0.2 # dropout probability\n",
    "\n",
    "# visualize one example preprocessed image\n",
    "plt.imshow(image[2])\n",
    "plt.axis(\"off\")"
   ]
  },
  {
   "cell_type": "code",
   "execution_count": 4,
   "id": "84cdd85c-afb2-4f4f-b66c-8b158eeac8d2",
   "metadata": {
    "executionCancelledAt": null,
    "executionTime": 3076,
    "lastExecutedAt": 1723720835242,
    "lastExecutedByKernel": "68f324ca-e9a6-45d8-87fa-254418ef1456",
    "lastScheduledRunId": null,
    "lastSuccessfullyExecutedCode": "from tensorflow.keras.models import Sequential\nfrom tensorflow.keras.layers import Conv2D, Dense, Flatten\n\nmodel = Sequential()\nmodel.add(Conv2D(32, kernel_size=3, input_shape=(input_size, input_size, 3), activation='relu'))\nmodel.add(Flatten())\nmodel.add(Dense(num_classes, activation='softmax'))\n\nmodel.compile(optimizer='adam', loss='categorical_crossentropy', metrics=['accuracy'])\n\nmodel.fit(image, labels['classifier_head'], epochs=10)\n\n_, accuracy = model.evaluate(image, labels['classifier_head'])",
    "outputsMetadata": {
     "0": {
      "height": 458,
      "type": "stream"
     }
    }
   },
   "outputs": [
    {
     "name": "stdout",
     "output_type": "stream",
     "text": [
      "Epoch 1/10\n",
      "\u001b[1m1/1\u001b[0m \u001b[32m━━━━━━━━━━━━━━━━━━━━\u001b[0m\u001b[37m\u001b[0m \u001b[1m1s\u001b[0m 745ms/step - accuracy: 0.5000 - loss: 11.7839\n",
      "Epoch 2/10\n"
     ]
    },
    {
     "name": "stderr",
     "output_type": "stream",
     "text": [
      "2024-11-23 05:05:48.109720: W external/local_tsl/tsl/framework/cpu_allocator_impl.cc:83] Allocation of 75700224 exceeds 10% of free system memory.\n",
      "2024-11-23 05:05:48.190817: W external/local_tsl/tsl/framework/cpu_allocator_impl.cc:83] Allocation of 75700224 exceeds 10% of free system memory.\n"
     ]
    },
    {
     "name": "stdout",
     "output_type": "stream",
     "text": [
      "\u001b[1m1/1\u001b[0m \u001b[32m━━━━━━━━━━━━━━━━━━━━\u001b[0m\u001b[37m\u001b[0m \u001b[1m0s\u001b[0m 141ms/step - accuracy: 0.5000 - loss: 17512.6133\n",
      "Epoch 3/10\n"
     ]
    },
    {
     "name": "stderr",
     "output_type": "stream",
     "text": [
      "2024-11-23 05:05:48.316038: W external/local_tsl/tsl/framework/cpu_allocator_impl.cc:83] Allocation of 75700224 exceeds 10% of free system memory.\n",
      "2024-11-23 05:05:48.347969: W external/local_tsl/tsl/framework/cpu_allocator_impl.cc:83] Allocation of 75700224 exceeds 10% of free system memory.\n",
      "2024-11-23 05:05:48.458365: W external/local_tsl/tsl/framework/cpu_allocator_impl.cc:83] Allocation of 75700224 exceeds 10% of free system memory.\n"
     ]
    },
    {
     "name": "stdout",
     "output_type": "stream",
     "text": [
      "\u001b[1m1/1\u001b[0m \u001b[32m━━━━━━━━━━━━━━━━━━━━\u001b[0m\u001b[37m\u001b[0m \u001b[1m0s\u001b[0m 124ms/step - accuracy: 0.5000 - loss: 14445.1484\n",
      "Epoch 4/10\n",
      "\u001b[1m1/1\u001b[0m \u001b[32m━━━━━━━━━━━━━━━━━━━━\u001b[0m\u001b[37m\u001b[0m \u001b[1m0s\u001b[0m 130ms/step - accuracy: 0.5000 - loss: 6673.5391\n",
      "Epoch 5/10\n",
      "\u001b[1m1/1\u001b[0m \u001b[32m━━━━━━━━━━━━━━━━━━━━\u001b[0m\u001b[37m\u001b[0m \u001b[1m0s\u001b[0m 135ms/step - accuracy: 0.8333 - loss: 97.8134\n",
      "Epoch 6/10\n",
      "\u001b[1m1/1\u001b[0m \u001b[32m━━━━━━━━━━━━━━━━━━━━\u001b[0m\u001b[37m\u001b[0m \u001b[1m0s\u001b[0m 150ms/step - accuracy: 0.5000 - loss: 1645.1068\n",
      "Epoch 7/10\n",
      "\u001b[1m1/1\u001b[0m \u001b[32m━━━━━━━━━━━━━━━━━━━━\u001b[0m\u001b[37m\u001b[0m \u001b[1m0s\u001b[0m 133ms/step - accuracy: 0.5000 - loss: 3408.9727\n",
      "Epoch 8/10\n",
      "\u001b[1m1/1\u001b[0m \u001b[32m━━━━━━━━━━━━━━━━━━━━\u001b[0m\u001b[37m\u001b[0m \u001b[1m0s\u001b[0m 140ms/step - accuracy: 0.5000 - loss: 2030.1488\n",
      "Epoch 9/10\n",
      "\u001b[1m1/1\u001b[0m \u001b[32m━━━━━━━━━━━━━━━━━━━━\u001b[0m\u001b[37m\u001b[0m \u001b[1m0s\u001b[0m 135ms/step - accuracy: 0.9167 - loss: 267.4276\n",
      "Epoch 10/10\n",
      "\u001b[1m1/1\u001b[0m \u001b[32m━━━━━━━━━━━━━━━━━━━━\u001b[0m\u001b[37m\u001b[0m \u001b[1m0s\u001b[0m 134ms/step - accuracy: 1.0000 - loss: 0.0000e+00\n",
      "\u001b[1m1/1\u001b[0m \u001b[32m━━━━━━━━━━━━━━━━━━━━\u001b[0m\u001b[37m\u001b[0m \u001b[1m0s\u001b[0m 132ms/step - accuracy: 1.0000 - loss: 0.0000e+00\n"
     ]
    }
   ],
   "source": [
    "from tensorflow.keras.models import Sequential\n",
    "from tensorflow.keras.layers import Conv2D, Dense, Flatten\n",
    "\n",
    "model = Sequential()\n",
    "model.add(Conv2D(32, kernel_size=3, input_shape=(input_size, input_size, 3), activation='relu'))\n",
    "model.add(Flatten())\n",
    "model.add(Dense(num_classes, activation='softmax'))\n",
    "\n",
    "model.compile(optimizer='adam', loss='categorical_crossentropy', metrics=['accuracy'])\n",
    "\n",
    "model.fit(image, labels['classifier_head'], epochs=10)\n",
    "\n",
    "_, accuracy = model.evaluate(image, labels['classifier_head'])"
   ]
  },
  {
   "cell_type": "code",
   "execution_count": 5,
   "id": "4957a710-9ad8-4337-b41c-e1c9539ebfca",
   "metadata": {
    "executionCancelledAt": null,
    "executionTime": 54,
    "lastExecutedAt": 1723720835297,
    "lastExecutedByKernel": "68f324ca-e9a6-45d8-87fa-254418ef1456",
    "lastScheduledRunId": null,
    "lastSuccessfullyExecutedCode": "print(accuracy)",
    "outputsMetadata": {
     "0": {
      "height": 38,
      "type": "stream"
     }
    }
   },
   "outputs": [
    {
     "name": "stdout",
     "output_type": "stream",
     "text": [
      "1.0\n"
     ]
    }
   ],
   "source": [
    "print(accuracy)"
   ]
  },
  {
   "cell_type": "code",
   "execution_count": null,
   "id": "4aafdcaa-d906-46f7-a114-efaaa6ce2ebf",
   "metadata": {},
   "outputs": [],
   "source": []
  }
 ],
 "metadata": {
  "colab": {
   "name": "Welcome to DataCamp Workspaces.ipynb",
   "provenance": []
  },
  "kernelspec": {
   "display_name": "env_dl_geron",
   "language": "python",
   "name": "env_dl_geron"
  },
  "language_info": {
   "codemirror_mode": {
    "name": "ipython",
    "version": 3
   },
   "file_extension": ".py",
   "mimetype": "text/x-python",
   "name": "python",
   "nbconvert_exporter": "python",
   "pygments_lexer": "ipython3",
   "version": "3.10.12"
  }
 },
 "nbformat": 4,
 "nbformat_minor": 5
}
